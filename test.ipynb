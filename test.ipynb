{
 "cells": [
  {
   "metadata": {
    "ExecuteTime": {
     "end_time": "2025-03-26T13:55:33.731938Z",
     "start_time": "2025-03-26T13:55:18.854745Z"
    }
   },
   "cell_type": "code",
   "source": [
    "from ensemble_model import EnsembleAgent\n",
    "from imports import *"
   ],
   "id": "ace75e528d871124",
   "outputs": [],
   "execution_count": 1
  },
  {
   "metadata": {
    "ExecuteTime": {
     "end_time": "2025-03-26T13:30:01.854163Z",
     "start_time": "2025-03-26T13:29:58.837839Z"
    }
   },
   "cell_type": "code",
   "source": [
    "\n",
    "with open('train.pkl', 'rb') as file:\n",
    "    train = pickle.load(file)\n",
    "\n",
    "\n",
    "\n",
    "with open('test.pkl', 'rb') as file:\n",
    "    test = pickle.load(file)"
   ],
   "id": "dd9549abbad32cea",
   "outputs": [],
   "execution_count": 2
  },
  {
   "metadata": {
    "ExecuteTime": {
     "end_time": "2025-03-26T09:57:58.879173Z",
     "start_time": "2025-03-26T09:57:48.686770Z"
    }
   },
   "cell_type": "code",
   "source": "from pricer_service import *",
   "id": "e630925b35e48502",
   "outputs": [
    {
     "name": "stderr",
     "output_type": "stream",
     "text": [
      "C:\\Users\\minhv\\PycharmProjects\\PythonProject1\\pricer_service.py:22: DeprecationError: 2025-02-03: Modal will stop implicitly adding local Python modules to the Image (\"automounting\") in a future update. The following modules need to be explicitly added for future compatibility:\n",
      "* RAG\n",
      "* _pydev_bundle\n",
      "* _pydev_imps\n",
      "* _pydevd_bundle\n",
      "* imports\n",
      "* items\n",
      "* pydev_jupyter_utils\n",
      "* pydev_jupyter_vars\n",
      "* pydevd_file_utils\n",
      "* pydevd_plugins\n",
      "\n",
      "e.g.:\n",
      "image_with_source = my_image.add_local_python_source(\"RAG\", \"_pydev_bundle\", \"_pydev_imps\", \"_pydevd_bundle\", \"imports\", \"items\", \"pydev_jupyter_utils\", \"pydev_jupyter_vars\", \"pydevd_file_utils\", \"pydevd_plugins\")\n",
      "\n",
      "For more information, see https://modal.com/docs/guide/modal-1-0-migration\n",
      "  @app.function(image=image, secrets=secrets, gpu=GPU, timeout=1800)\n"
     ]
    }
   ],
   "execution_count": 7
  },
  {
   "metadata": {
    "ExecuteTime": {
     "end_time": "2025-03-25T14:37:09.317180Z",
     "start_time": "2025-03-25T14:37:03.479904Z"
    }
   },
   "cell_type": "code",
   "source": "",
   "id": "82fafbef6664e454",
   "outputs": [
    {
     "name": "stdout",
     "output_type": "stream",
     "text": [
      "The web browser should have opened for you to authenticate and get an API \n",
      "token.\n",
      "If it didn't, please copy this URL into your web browser manually:\n",
      "\n",
      "The web browser should have opened for you to authenticate and get an API \n",
      "token.\n",
      "If it didn't, please copy this URL into your web browser manually:\n",
      "\n"
     ]
    },
    {
     "name": "stderr",
     "output_type": "stream",
     "text": [
      "+- Error ---------------------------------------------------------------------+\n",
      "| 'charmap' codec can't encode character '\\u280b' in position 0: character    |\n",
      "| maps to <undefined>                                                         |\n",
      "+-----------------------------------------------------------------------------+\n"
     ]
    }
   ],
   "execution_count": 6
  },
  {
   "metadata": {
    "ExecuteTime": {
     "end_time": "2025-03-26T09:58:04.334949Z",
     "start_time": "2025-03-26T09:58:04.318598Z"
    }
   },
   "cell_type": "code",
   "source": "import modal\n",
   "id": "ba56440b1b1cfbb2",
   "outputs": [],
   "execution_count": 8
  },
  {
   "metadata": {
    "ExecuteTime": {
     "end_time": "2025-03-26T09:59:20.023946Z",
     "start_time": "2025-03-26T09:59:15.710412Z"
    }
   },
   "cell_type": "code",
   "source": "!python -m modal setup",
   "id": "9665faa89f3b4c67",
   "outputs": [
    {
     "name": "stdout",
     "output_type": "stream",
     "text": [
      "The web browser should have opened for you to authenticate and get an API \n",
      "token.\n",
      "If it didn't, please copy this URL into your web browser manually:\n",
      "\n",
      "The web browser should have opened for you to authenticate and get an API \n",
      "token.\n",
      "If it didn't, please copy this URL into your web browser manually:\n",
      "\n"
     ]
    },
    {
     "name": "stderr",
     "output_type": "stream",
     "text": [
      "+- Error ---------------------------------------------------------------------+\n",
      "| 'charmap' codec can't encode character '\\u280b' in position 0: character    |\n",
      "| maps to <undefined>                                                         |\n",
      "+-----------------------------------------------------------------------------+\n"
     ]
    }
   ],
   "execution_count": 9
  },
  {
   "metadata": {
    "ExecuteTime": {
     "end_time": "2025-03-25T14:55:51.072339Z",
     "start_time": "2025-03-25T14:53:11.869105Z"
    }
   },
   "cell_type": "code",
   "source": [
    "from pricer_service import *\n",
    "with modal.enable_output():\n",
    "    with app.run():\n",
    "        result=price.remote(\"Quadcast HyperX condenser mic, connects via usb-c to your computer for crystal clear audio\")\n",
    "result"
   ],
   "id": "ad100063e8a84834",
   "outputs": [
    {
     "name": "stderr",
     "output_type": "stream",
     "text": [
      "C:\\Users\\minhv\\PycharmProjects\\PythonProject1\\pricer_service.py:22: DeprecationError: 2025-02-03: Modal will stop implicitly adding local Python modules to the Image (\"automounting\") in a future update. The following modules need to be explicitly added for future compatibility:\n",
      "* _pydev_bundle\n",
      "* _pydev_imps\n",
      "* _pydevd_bundle\n",
      "* imports\n",
      "* pydev_jupyter_utils\n",
      "* pydev_jupyter_vars\n",
      "* pydevd_file_utils\n",
      "* pydevd_plugins\n",
      "\n",
      "e.g.:\n",
      "image_with_source = my_image.add_local_python_source(\"_pydev_bundle\", \"_pydev_imps\", \"_pydevd_bundle\", \"imports\", \"pydev_jupyter_utils\", \"pydev_jupyter_vars\", \"pydevd_file_utils\", \"pydevd_plugins\")\n",
      "\n",
      "For more information, see https://modal.com/docs/guide/modal-1-0-migration\n",
      "  @app.function(image=image, secrets=secrets, gpu=GPU, timeout=1800)\n"
     ]
    },
    {
     "data": {
      "text/plain": [
       "Output()"
      ],
      "application/vnd.jupyter.widget-view+json": {
       "version_major": 2,
       "version_minor": 0,
       "model_id": "a7b2c7c1aa9d452b843189a92b428296"
      }
     },
     "metadata": {},
     "output_type": "display_data"
    },
    {
     "data": {
      "text/plain": [
       "\u001B[32m✓\u001B[0m Initialized. \u001B[38;5;249mView run at \u001B[0m\u001B[4;38;5;249mhttps://modal.com/apps/minhvi176/main/ap-1a78xblxQuO7OVSH2HNwi9\u001B[0m\n"
      ],
      "text/html": [
       "<pre style=\"white-space:pre;overflow-x:auto;line-height:normal;font-family:Menlo,'DejaVu Sans Mono',consolas,'Courier New',monospace\"><span style=\"color: #008000; text-decoration-color: #008000\">✓</span> Initialized. <span style=\"color: #b2b2b2; text-decoration-color: #b2b2b2\">View run at </span><span style=\"color: #b2b2b2; text-decoration-color: #b2b2b2; text-decoration: underline\">https://modal.com/apps/minhvi176/main/ap-1a78xblxQuO7OVSH2HNwi9</span>\n",
       "</pre>\n"
      ]
     },
     "metadata": {},
     "output_type": "display_data"
    },
    {
     "data": {
      "text/plain": [],
      "text/html": [
       "<pre style=\"white-space:pre;overflow-x:auto;line-height:normal;font-family:Menlo,'DejaVu Sans Mono',consolas,'Courier New',monospace\"></pre>\n"
      ]
     },
     "metadata": {},
     "output_type": "display_data"
    },
    {
     "data": {
      "text/plain": [
       "Output()"
      ],
      "application/vnd.jupyter.widget-view+json": {
       "version_major": 2,
       "version_minor": 0,
       "model_id": "f99705b1a9e145eab712bea3a22282ff"
      }
     },
     "metadata": {},
     "output_type": "display_data"
    },
    {
     "data": {
      "text/plain": [],
      "text/html": [
       "<pre style=\"white-space:pre;overflow-x:auto;line-height:normal;font-family:Menlo,'DejaVu Sans Mono',consolas,'Courier New',monospace\"></pre>\n"
      ]
     },
     "metadata": {},
     "output_type": "display_data"
    },
    {
     "data": {
      "text/plain": [
       "\u001B[32m✓\u001B[0m Created objects.\n",
       "\u001B[38;5;244m├── \u001B[0m🔨 Created mount C:\\Users\\minhv\\PycharmProjects\\PythonProject1\\pricer_service.py\n",
       "\u001B[38;5;244m├── \u001B[0m🔨 Created mount PythonPackage:imports\n",
       "\u001B[38;5;244m├── \u001B[0m🔨 Created mount PythonPackage:pydevd_file_utils\n",
       "\u001B[38;5;244m├── \u001B[0m🔨 Created mount PythonPackage:pydev_jupyter_vars\n",
       "\u001B[38;5;244m├── \u001B[0m🔨 Created mount PythonPackage:pydev_jupyter_utils\n",
       "\u001B[38;5;244m├── \u001B[0m🔨 Created mount PythonPackage:_pydev_imps\n",
       "\u001B[38;5;244m├── \u001B[0m🔨 Created mount PythonPackage:pydevd_plugins\n",
       "\u001B[38;5;244m├── \u001B[0m🔨 Created mount PythonPackage:_pydev_bundle\n",
       "\u001B[38;5;244m├── \u001B[0m🔨 Created mount PythonPackage:_pydevd_bundle\n",
       "\u001B[38;5;244m└── \u001B[0m🔨 Created function price.\n"
      ],
      "text/html": [
       "<pre style=\"white-space:pre;overflow-x:auto;line-height:normal;font-family:Menlo,'DejaVu Sans Mono',consolas,'Courier New',monospace\"><span style=\"color: #008000; text-decoration-color: #008000\">✓</span> Created objects.\n",
       "<span style=\"color: #808080; text-decoration-color: #808080\">├── </span>🔨 Created mount C:\\Users\\minhv\\PycharmProjects\\PythonProject1\\pricer_service.py\n",
       "<span style=\"color: #808080; text-decoration-color: #808080\">├── </span>🔨 Created mount PythonPackage:imports\n",
       "<span style=\"color: #808080; text-decoration-color: #808080\">├── </span>🔨 Created mount PythonPackage:pydevd_file_utils\n",
       "<span style=\"color: #808080; text-decoration-color: #808080\">├── </span>🔨 Created mount PythonPackage:pydev_jupyter_vars\n",
       "<span style=\"color: #808080; text-decoration-color: #808080\">├── </span>🔨 Created mount PythonPackage:pydev_jupyter_utils\n",
       "<span style=\"color: #808080; text-decoration-color: #808080\">├── </span>🔨 Created mount PythonPackage:_pydev_imps\n",
       "<span style=\"color: #808080; text-decoration-color: #808080\">├── </span>🔨 Created mount PythonPackage:pydevd_plugins\n",
       "<span style=\"color: #808080; text-decoration-color: #808080\">├── </span>🔨 Created mount PythonPackage:_pydev_bundle\n",
       "<span style=\"color: #808080; text-decoration-color: #808080\">├── </span>🔨 Created mount PythonPackage:_pydevd_bundle\n",
       "<span style=\"color: #808080; text-decoration-color: #808080\">└── </span>🔨 Created function price.\n",
       "</pre>\n"
      ]
     },
     "metadata": {},
     "output_type": "display_data"
    },
    {
     "data": {
      "text/plain": [
       "Output()"
      ],
      "application/vnd.jupyter.widget-view+json": {
       "version_major": 2,
       "version_minor": 0,
       "model_id": "eaae0e33e2bb453fa9da3f8f34b8b6d7"
      }
     },
     "metadata": {},
     "output_type": "display_data"
    },
    {
     "data": {
      "text/plain": [
       "\u001B[31m\n",
       "\u001B[0m"
      ],
      "text/html": [
       "<pre style=\"white-space:pre;overflow-x:auto;line-height:normal;font-family:Menlo,'DejaVu Sans Mono',consolas,'Courier New',monospace\"><span style=\"color: #800000; text-decoration-color: #800000\">\n",
       "</span></pre>\n"
      ]
     },
     "metadata": {},
     "output_type": "display_data"
    },
    {
     "data": {
      "text/plain": [
       "\u001B[31m\u001B[1ADownloading shards:   0%|          | 0/4 [00:00<?, ?it/s]\n",
       "\u001B[0m"
      ],
      "text/html": [
       "<pre style=\"white-space:pre;overflow-x:auto;line-height:normal;font-family:Menlo,'DejaVu Sans Mono',consolas,'Courier New',monospace\"><span style=\"color: #800000; text-decoration-color: #800000\">\u001B[1ADownloading shards:   0%|          | 0/4 [00:00&lt;?, ?it/s]\n",
       "</span></pre>\n"
      ]
     },
     "metadata": {},
     "output_type": "display_data"
    },
    {
     "data": {
      "text/plain": [
       "\u001B[31m\u001B[1ADownloading shards:  25%|██▌       | 1/4 [00:33<01:39, 33.10s/it]\u001B[0m"
      ],
      "text/html": [
       "<pre style=\"white-space:pre;overflow-x:auto;line-height:normal;font-family:Menlo,'DejaVu Sans Mono',consolas,'Courier New',monospace\"><span style=\"color: #800000; text-decoration-color: #800000\">\u001B[1ADownloading shards:  25%|██▌       | 1/4 [00:33&lt;01:39, 33.10s/it]</span></pre>\n"
      ]
     },
     "metadata": {},
     "output_type": "display_data"
    },
    {
     "data": {
      "text/plain": [
       "\u001B[31m\n",
       "\u001B[0m"
      ],
      "text/html": [
       "<pre style=\"white-space:pre;overflow-x:auto;line-height:normal;font-family:Menlo,'DejaVu Sans Mono',consolas,'Courier New',monospace\"><span style=\"color: #800000; text-decoration-color: #800000\">\n",
       "</span></pre>\n"
      ]
     },
     "metadata": {},
     "output_type": "display_data"
    },
    {
     "data": {
      "text/plain": [
       "\u001B[31m\u001B[1ADownloading shards:  50%|█████     | 2/4 [01:04<01:03, 31.90s/it]\u001B[0m"
      ],
      "text/html": [
       "<pre style=\"white-space:pre;overflow-x:auto;line-height:normal;font-family:Menlo,'DejaVu Sans Mono',consolas,'Courier New',monospace\"><span style=\"color: #800000; text-decoration-color: #800000\">\u001B[1ADownloading shards:  50%|█████     | 2/4 [01:04&lt;01:03, 31.90s/it]</span></pre>\n"
      ]
     },
     "metadata": {},
     "output_type": "display_data"
    },
    {
     "data": {
      "text/plain": [
       "\u001B[31m\n",
       "\u001B[0m"
      ],
      "text/html": [
       "<pre style=\"white-space:pre;overflow-x:auto;line-height:normal;font-family:Menlo,'DejaVu Sans Mono',consolas,'Courier New',monospace\"><span style=\"color: #800000; text-decoration-color: #800000\">\n",
       "</span></pre>\n"
      ]
     },
     "metadata": {},
     "output_type": "display_data"
    },
    {
     "data": {
      "text/plain": [
       "\u001B[31m\u001B[1ADownloading shards:  75%|███████▌  | 3/4 [01:33<00:30, 30.85s/it]\n",
       "\u001B[0m"
      ],
      "text/html": [
       "<pre style=\"white-space:pre;overflow-x:auto;line-height:normal;font-family:Menlo,'DejaVu Sans Mono',consolas,'Courier New',monospace\"><span style=\"color: #800000; text-decoration-color: #800000\">\u001B[1ADownloading shards:  75%|███████▌  | 3/4 [01:33&lt;00:30, 30.85s/it]\n",
       "</span></pre>\n"
      ]
     },
     "metadata": {},
     "output_type": "display_data"
    },
    {
     "data": {
      "text/plain": [
       "\u001B[31m\u001B[1ADownloading shards: 100%|██████████| 4/4 [01:41<00:00, 21.72s/it]Downloading shards: 100%|██████████| 4/4 [01:41<00:00, 25.37s/it]\n",
       "\u001B[0m"
      ],
      "text/html": [
       "<pre style=\"white-space:pre;overflow-x:auto;line-height:normal;font-family:Menlo,'DejaVu Sans Mono',consolas,'Courier New',monospace\"><span style=\"color: #800000; text-decoration-color: #800000\">\u001B[1ADownloading shards: 100%|██████████| 4/4 [01:41&lt;00:00, 21.72s/it]Downloading shards: 100%|██████████| 4/4 [01:41&lt;00:00, 25.37s/it]\n",
       "</span></pre>\n"
      ]
     },
     "metadata": {},
     "output_type": "display_data"
    },
    {
     "data": {
      "text/plain": [
       "\u001B[31m\n",
       "\u001B[0m"
      ],
      "text/html": [
       "<pre style=\"white-space:pre;overflow-x:auto;line-height:normal;font-family:Menlo,'DejaVu Sans Mono',consolas,'Courier New',monospace\"><span style=\"color: #800000; text-decoration-color: #800000\">\n",
       "</span></pre>\n"
      ]
     },
     "metadata": {},
     "output_type": "display_data"
    },
    {
     "data": {
      "text/plain": [
       "\u001B[31m\u001B[1ALoading checkpoint shards:   0%|          | 0/4 [00:00<?, ?it/s]\n",
       "\u001B[0m"
      ],
      "text/html": [
       "<pre style=\"white-space:pre;overflow-x:auto;line-height:normal;font-family:Menlo,'DejaVu Sans Mono',consolas,'Courier New',monospace\"><span style=\"color: #800000; text-decoration-color: #800000\">\u001B[1ALoading checkpoint shards:   0%|          | 0/4 [00:00&lt;?, ?it/s]\n",
       "</span></pre>\n"
      ]
     },
     "metadata": {},
     "output_type": "display_data"
    },
    {
     "data": {
      "text/plain": [
       "\u001B[31m\u001B[1ALoading checkpoint shards:  25%|██▌       | 1/4 [00:05<00:16,  5.41s/it]\n",
       "\u001B[0m"
      ],
      "text/html": [
       "<pre style=\"white-space:pre;overflow-x:auto;line-height:normal;font-family:Menlo,'DejaVu Sans Mono',consolas,'Courier New',monospace\"><span style=\"color: #800000; text-decoration-color: #800000\">\u001B[1ALoading checkpoint shards:  25%|██▌       | 1/4 [00:05&lt;00:16,  5.41s/it]\n",
       "</span></pre>\n"
      ]
     },
     "metadata": {},
     "output_type": "display_data"
    },
    {
     "data": {
      "text/plain": [
       "\u001B[31m\u001B[1ALoading checkpoint shards:  50%|█████     | 2/4 [00:11<00:11,  5.54s/it]\n",
       "\u001B[0m"
      ],
      "text/html": [
       "<pre style=\"white-space:pre;overflow-x:auto;line-height:normal;font-family:Menlo,'DejaVu Sans Mono',consolas,'Courier New',monospace\"><span style=\"color: #800000; text-decoration-color: #800000\">\u001B[1ALoading checkpoint shards:  50%|█████     | 2/4 [00:11&lt;00:11,  5.54s/it]\n",
       "</span></pre>\n"
      ]
     },
     "metadata": {},
     "output_type": "display_data"
    },
    {
     "data": {
      "text/plain": [
       "\u001B[31m\u001B[1ALoading checkpoint shards:  75%|███████▌  | 3/4 [00:16<00:05,  5.45s/it]\n",
       "\u001B[0m"
      ],
      "text/html": [
       "<pre style=\"white-space:pre;overflow-x:auto;line-height:normal;font-family:Menlo,'DejaVu Sans Mono',consolas,'Courier New',monospace\"><span style=\"color: #800000; text-decoration-color: #800000\">\u001B[1ALoading checkpoint shards:  75%|███████▌  | 3/4 [00:16&lt;00:05,  5.45s/it]\n",
       "</span></pre>\n"
      ]
     },
     "metadata": {},
     "output_type": "display_data"
    },
    {
     "data": {
      "text/plain": [
       "\u001B[31m\u001B[1ALoading checkpoint shards: 100%|██████████| 4/4 [00:17<00:00,  3.81s/it]Loading checkpoint shards: 100%|██████████| 4/4 [00:17<00:00,  4.42s/it]\n",
       "\u001B[0m"
      ],
      "text/html": [
       "<pre style=\"white-space:pre;overflow-x:auto;line-height:normal;font-family:Menlo,'DejaVu Sans Mono',consolas,'Courier New',monospace\"><span style=\"color: #800000; text-decoration-color: #800000\">\u001B[1ALoading checkpoint shards: 100%|██████████| 4/4 [00:17&lt;00:00,  3.81s/it]Loading checkpoint shards: 100%|██████████| 4/4 [00:17&lt;00:00,  4.42s/it]\n",
       "</span></pre>\n"
      ]
     },
     "metadata": {},
     "output_type": "display_data"
    },
    {
     "data": {
      "text/plain": [
       "\u001B[31mSetting `pad_token_id` to `eos_token_id`:128001 for open-end generation.\n",
       "\u001B[0m"
      ],
      "text/html": [
       "<pre style=\"white-space:pre;overflow-x:auto;line-height:normal;font-family:Menlo,'DejaVu Sans Mono',consolas,'Courier New',monospace\"><span style=\"color: #800000; text-decoration-color: #800000\">Setting `pad_token_id` to `eos_token_id`:128001 for open-end generation.\n",
       "</span></pre>\n"
      ]
     },
     "metadata": {},
     "output_type": "display_data"
    },
    {
     "data": {
      "text/plain": [],
      "text/html": [
       "<pre style=\"white-space:pre;overflow-x:auto;line-height:normal;font-family:Menlo,'DejaVu Sans Mono',consolas,'Courier New',monospace\"></pre>\n"
      ]
     },
     "metadata": {},
     "output_type": "display_data"
    },
    {
     "data": {
      "text/plain": [
       "\u001B[33mStopping app - local entrypoint completed.\n",
       "\u001B[0m"
      ],
      "text/html": [
       "<pre style=\"white-space:pre;overflow-x:auto;line-height:normal;font-family:Menlo,'DejaVu Sans Mono',consolas,'Courier New',monospace\"><span style=\"color: #808000; text-decoration-color: #808000\">Stopping app - local entrypoint completed.\n",
       "</span></pre>\n"
      ]
     },
     "metadata": {},
     "output_type": "display_data"
    },
    {
     "data": {
      "text/plain": [
       "\u001B[32m✓\u001B[0m App completed. \u001B[38;5;249mView run at \u001B[0m\u001B[4;38;5;249mhttps://modal.com/apps/minhvi176/main/ap-1a78xblxQuO7OVSH2HNwi9\u001B[0m\n"
      ],
      "text/html": [
       "<pre style=\"white-space:pre;overflow-x:auto;line-height:normal;font-family:Menlo,'DejaVu Sans Mono',consolas,'Courier New',monospace\"><span style=\"color: #008000; text-decoration-color: #008000\">✓</span> App completed. <span style=\"color: #b2b2b2; text-decoration-color: #b2b2b2\">View run at </span><span style=\"color: #b2b2b2; text-decoration-color: #b2b2b2; text-decoration: underline\">https://modal.com/apps/minhvi176/main/ap-1a78xblxQuO7OVSH2HNwi9</span>\n",
       "</pre>\n"
      ]
     },
     "metadata": {},
     "output_type": "display_data"
    },
    {
     "data": {
      "text/plain": [
       "133.0"
      ]
     },
     "execution_count": 20,
     "metadata": {},
     "output_type": "execute_result"
    }
   ],
   "execution_count": 20
  },
  {
   "metadata": {
    "ExecuteTime": {
     "end_time": "2025-03-25T14:56:27.176397Z",
     "start_time": "2025-03-25T14:56:26.721902Z"
    }
   },
   "cell_type": "code",
   "source": "pricer = modal.Function.lookup(\"pricer-service\", \"price\")",
   "id": "2729e473ce29dafb",
   "outputs": [
    {
     "name": "stderr",
     "output_type": "stream",
     "text": [
      "C:\\Users\\minhv\\anaconda3\\Lib\\asyncio\\events.py:88: DeprecationError: 2025-01-27: `modal.Function.lookup` is deprecated and will be removed in a future release. It can be replaced with `modal.Function.from_name`.\n",
      "\n",
      "See https://modal.com/docs/guide/modal-1-0-migration for more information.\n",
      "  self._context.run(self._callback, *self._args)\n"
     ]
    }
   ],
   "execution_count": 21
  },
  {
   "metadata": {
    "ExecuteTime": {
     "end_time": "2025-03-25T14:59:16.918105Z",
     "start_time": "2025-03-25T14:56:41.647747Z"
    }
   },
   "cell_type": "code",
   "source": "pricer.remote(\"Quadcast HyperX condenser mic, connects via usb-c to your computer for crystal clear audio\")",
   "id": "a6fc131d5776ac89",
   "outputs": [
    {
     "data": {
      "text/plain": [
       "133.0"
      ]
     },
     "execution_count": 22,
     "metadata": {},
     "output_type": "execute_result"
    }
   ],
   "execution_count": 22
  },
  {
   "metadata": {
    "ExecuteTime": {
     "end_time": "2025-03-25T14:59:33.457677Z",
     "start_time": "2025-03-25T14:59:27.305066Z"
    }
   },
   "cell_type": "code",
   "source": "!modal deploy pricer_service",
   "id": "65703ef88414c5b8",
   "outputs": [
    {
     "name": "stdout",
     "output_type": "stream",
     "text": [
      "+- Modal Deprecation Warning (2025-02-06) ------------------------------------+\n",
      "| Using Python module paths will require using the -m flag in a future        |\n",
      "| version of Modal.                                                           |\n",
      "| Use `modal deploy -m pricer_service` instead.                               |\n",
      "+-----------------------------------------------------------------------------+\n",
      "- Creating objects...\n",
      "\\ Creating objects...\n",
      "/ Creating objects...\n",
      "`-- - Creating mount \n",
      "    C:\\Users\\minhv\\PycharmProjects\\PythonProject1\\pricer_service.py: Uploaded \n",
      "    0/1 files\n",
      "| Creating objects...\n",
      "`-- | Creating mount \n",
      "    C:\\Users\\minhv\\PycharmProjects\\PythonProject1\\pricer_service.py: Uploaded \n",
      "    0/1 files\n",
      "- Creating objects...\n",
      "`-- - Creating mount \n",
      "    C:\\Users\\minhv\\PycharmProjects\\PythonProject1\\pricer_service.py: Finalizing\n",
      "    index of 1 files\n",
      "| Creating objects...\n",
      "`-- | Creating mount \n",
      "    C:\\Users\\minhv\\PycharmProjects\\PythonProject1\\pricer_service.py: Finalizing\n",
      "    index of 1 files\n",
      "- Creating objects...\n",
      "+-- \n",
      "- Creating objects...\n",
      "+-- \n",
      "- Creating objects...\n",
      "+-- \n",
      "- Creating objects...\n",
      "+-- \n",
      "- Creating objects...\n",
      "+-- \n",
      "| Creating objects...\n",
      "+-- \n"
     ]
    },
    {
     "name": "stderr",
     "output_type": "stream",
     "text": [
      "+- Error ---------------------------------------------------------------------+\n",
      "| 'charmap' codec can't encode character '\\U0001f528' in position 0:          |\n",
      "| character maps to <undefined>                                               |\n",
      "+-----------------------------------------------------------------------------+\n"
     ]
    }
   ],
   "execution_count": 23
  },
  {
   "metadata": {
    "ExecuteTime": {
     "end_time": "2025-03-25T15:00:23.568249Z",
     "start_time": "2025-03-25T15:00:23.099156Z"
    }
   },
   "cell_type": "code",
   "source": "pricer = modal.Function.lookup(\"pricer-service\", \"price\")",
   "id": "823fd5453e6592d7",
   "outputs": [
    {
     "name": "stderr",
     "output_type": "stream",
     "text": [
      "C:\\Users\\minhv\\anaconda3\\Lib\\asyncio\\events.py:88: DeprecationError: 2025-01-27: `modal.Function.lookup` is deprecated and will be removed in a future release. It can be replaced with `modal.Function.from_name`.\n",
      "\n",
      "See https://modal.com/docs/guide/modal-1-0-migration for more information.\n",
      "  self._context.run(self._callback, *self._args)\n"
     ]
    }
   ],
   "execution_count": 24
  },
  {
   "metadata": {
    "ExecuteTime": {
     "end_time": "2025-03-25T15:03:01.529154Z",
     "start_time": "2025-03-25T15:00:31.111991Z"
    }
   },
   "cell_type": "code",
   "source": "pricer.remote(\"Quadcast HyperX condenser mic, connects via usb-c to your computer for crystal clear audio\")",
   "id": "69557d2189f1d822",
   "outputs": [
    {
     "data": {
      "text/plain": [
       "133.0"
      ]
     },
     "execution_count": 25,
     "metadata": {},
     "output_type": "execute_result"
    }
   ],
   "execution_count": 25
  },
  {
   "metadata": {
    "ExecuteTime": {
     "end_time": "2025-03-25T15:25:39.427895Z",
     "start_time": "2025-03-25T15:25:39.367745Z"
    }
   },
   "cell_type": "code",
   "source": [
    "Pricer = modal.Cls.from_name(\"pricer-service\", \"price\")\n",
    "pricer = Pricer()\n",
    "reply = price.remote(\"Quadcast HyperX condenser mic, connects via usb-c to your computer for crystal clear audio\")\n",
    "print(reply)"
   ],
   "id": "c642899ab1a20a29",
   "outputs": [
    {
     "ename": "ExecutionError",
     "evalue": "Function has not been hydrated with the metadata it needs to run on Modal, because the App it is defined on is not running.",
     "output_type": "error",
     "traceback": [
      "\u001B[1;31m---------------------------------------------------------------------------\u001B[0m",
      "\u001B[1;31mExecutionError\u001B[0m                            Traceback (most recent call last)",
      "Cell \u001B[1;32mIn[41], line 3\u001B[0m\n\u001B[0;32m      1\u001B[0m Pricer \u001B[38;5;241m=\u001B[39m modal\u001B[38;5;241m.\u001B[39mCls\u001B[38;5;241m.\u001B[39mfrom_name(\u001B[38;5;124m\"\u001B[39m\u001B[38;5;124mpricer-service\u001B[39m\u001B[38;5;124m\"\u001B[39m, \u001B[38;5;124m\"\u001B[39m\u001B[38;5;124mprice\u001B[39m\u001B[38;5;124m\"\u001B[39m)\n\u001B[0;32m      2\u001B[0m pricer \u001B[38;5;241m=\u001B[39m Pricer()\n\u001B[1;32m----> 3\u001B[0m reply \u001B[38;5;241m=\u001B[39m price\u001B[38;5;241m.\u001B[39mremote(\u001B[38;5;124m\"\u001B[39m\u001B[38;5;124mQuadcast HyperX condenser mic, connects via usb-c to your computer for crystal clear audio\u001B[39m\u001B[38;5;124m\"\u001B[39m)\n\u001B[0;32m      4\u001B[0m \u001B[38;5;28mprint\u001B[39m(reply)\n",
      "File \u001B[1;32m~\\anaconda3\\Lib\\site-packages\\synchronicity\\synchronizer.py:592\u001B[0m, in \u001B[0;36mSynchronizer._wrap_proxy_method.<locals>.proxy_method\u001B[1;34m(self, *args, **kwargs)\u001B[0m\n\u001B[0;32m    590\u001B[0m instance \u001B[38;5;241m=\u001B[39m \u001B[38;5;28mself\u001B[39m\u001B[38;5;241m.\u001B[39m\u001B[38;5;18m__dict__\u001B[39m[synchronizer_self\u001B[38;5;241m.\u001B[39m_original_attr]\n\u001B[0;32m    591\u001B[0m \u001B[38;5;28;01mtry\u001B[39;00m:\n\u001B[1;32m--> 592\u001B[0m     \u001B[38;5;28;01mreturn\u001B[39;00m wrapped_method(instance, \u001B[38;5;241m*\u001B[39margs, \u001B[38;5;241m*\u001B[39m\u001B[38;5;241m*\u001B[39mkwargs)\n\u001B[0;32m    593\u001B[0m \u001B[38;5;28;01mexcept\u001B[39;00m UserCodeException \u001B[38;5;28;01mas\u001B[39;00m uc_exc:\n\u001B[0;32m    594\u001B[0m     uc_exc\u001B[38;5;241m.\u001B[39mexc\u001B[38;5;241m.\u001B[39m__suppress_context__ \u001B[38;5;241m=\u001B[39m \u001B[38;5;28;01mTrue\u001B[39;00m\n",
      "File \u001B[1;32m~\\anaconda3\\Lib\\site-packages\\synchronicity\\combined_types.py:29\u001B[0m, in \u001B[0;36mFunctionWithAio.__call__\u001B[1;34m(self, *args, **kwargs)\u001B[0m\n\u001B[0;32m     27\u001B[0m \u001B[38;5;28;01mexcept\u001B[39;00m UserCodeException \u001B[38;5;28;01mas\u001B[39;00m uc_exc:\n\u001B[0;32m     28\u001B[0m     uc_exc\u001B[38;5;241m.\u001B[39mexc\u001B[38;5;241m.\u001B[39m__suppress_context__ \u001B[38;5;241m=\u001B[39m \u001B[38;5;28;01mTrue\u001B[39;00m\n\u001B[1;32m---> 29\u001B[0m     \u001B[38;5;28;01mraise\u001B[39;00m uc_exc\u001B[38;5;241m.\u001B[39mexc\n",
      "File \u001B[1;32m~\\anaconda3\\Lib\\site-packages\\modal\\_object.py:283\u001B[0m, in \u001B[0;36mlive_method.<locals>.wrapped\u001B[1;34m(self, *args, **kwargs)\u001B[0m\n\u001B[0;32m    281\u001B[0m \u001B[38;5;129m@wraps\u001B[39m(method)\n\u001B[0;32m    282\u001B[0m \u001B[38;5;28;01masync\u001B[39;00m \u001B[38;5;28;01mdef\u001B[39;00m \u001B[38;5;21mwrapped\u001B[39m(\u001B[38;5;28mself\u001B[39m, \u001B[38;5;241m*\u001B[39margs, \u001B[38;5;241m*\u001B[39m\u001B[38;5;241m*\u001B[39mkwargs):\n\u001B[1;32m--> 283\u001B[0m     \u001B[38;5;28;01mawait\u001B[39;00m \u001B[38;5;28mself\u001B[39m\u001B[38;5;241m.\u001B[39mhydrate()\n\u001B[0;32m    284\u001B[0m     \u001B[38;5;28;01mreturn\u001B[39;00m \u001B[38;5;28;01mawait\u001B[39;00m method(\u001B[38;5;28mself\u001B[39m, \u001B[38;5;241m*\u001B[39margs, \u001B[38;5;241m*\u001B[39m\u001B[38;5;241m*\u001B[39mkwargs)\n",
      "File \u001B[1;32m~\\anaconda3\\Lib\\site-packages\\modal\\_object.py:272\u001B[0m, in \u001B[0;36m_Object.hydrate\u001B[1;34m(self, client)\u001B[0m\n\u001B[0;32m    269\u001B[0m         logger\u001B[38;5;241m.\u001B[39mdebug(\u001B[38;5;124mf\u001B[39m\u001B[38;5;124m\"\u001B[39m\u001B[38;5;124mrehydrated \u001B[39m\u001B[38;5;132;01m{\u001B[39;00m\u001B[38;5;28mself\u001B[39m\u001B[38;5;132;01m}\u001B[39;00m\u001B[38;5;124m with client \u001B[39m\u001B[38;5;132;01m{\u001B[39;00m\u001B[38;5;28mid\u001B[39m(c)\u001B[38;5;132;01m}\u001B[39;00m\u001B[38;5;124m\"\u001B[39m)\n\u001B[0;32m    270\u001B[0m \u001B[38;5;28;01melif\u001B[39;00m \u001B[38;5;129;01mnot\u001B[39;00m \u001B[38;5;28mself\u001B[39m\u001B[38;5;241m.\u001B[39m_hydrate_lazily:\n\u001B[0;32m    271\u001B[0m     \u001B[38;5;66;03m# TODO(michael) can remove _hydrate lazily? I think all objects support it now?\u001B[39;00m\n\u001B[1;32m--> 272\u001B[0m     \u001B[38;5;28mself\u001B[39m\u001B[38;5;241m.\u001B[39m_validate_is_hydrated()\n\u001B[0;32m    273\u001B[0m \u001B[38;5;28;01melse\u001B[39;00m:\n\u001B[0;32m    274\u001B[0m     c \u001B[38;5;241m=\u001B[39m client \u001B[38;5;28;01mif\u001B[39;00m client \u001B[38;5;129;01mis\u001B[39;00m \u001B[38;5;129;01mnot\u001B[39;00m \u001B[38;5;28;01mNone\u001B[39;00m \u001B[38;5;28;01melse\u001B[39;00m \u001B[38;5;28;01mawait\u001B[39;00m _Client\u001B[38;5;241m.\u001B[39mfrom_env()\n",
      "File \u001B[1;32m~\\anaconda3\\Lib\\site-packages\\modal\\_object.py:132\u001B[0m, in \u001B[0;36m_Object._validate_is_hydrated\u001B[1;34m(self)\u001B[0m\n\u001B[0;32m    129\u001B[0m \u001B[38;5;28;01melse\u001B[39;00m:\n\u001B[0;32m    130\u001B[0m     \u001B[38;5;66;03m# Technically possible, but with an ambiguous cause.\u001B[39;00m\n\u001B[0;32m    131\u001B[0m     reason \u001B[38;5;241m=\u001B[39m \u001B[38;5;124m\"\u001B[39m\u001B[38;5;124m\"\u001B[39m\n\u001B[1;32m--> 132\u001B[0m \u001B[38;5;28;01mraise\u001B[39;00m ExecutionError(\n\u001B[0;32m    133\u001B[0m     \u001B[38;5;124mf\u001B[39m\u001B[38;5;124m\"\u001B[39m\u001B[38;5;132;01m{\u001B[39;00mobject_type\u001B[38;5;132;01m}\u001B[39;00m\u001B[38;5;124m has not been hydrated with the metadata it needs to run on Modal\u001B[39m\u001B[38;5;132;01m{\u001B[39;00mreason\u001B[38;5;132;01m}\u001B[39;00m\u001B[38;5;124m.\u001B[39m\u001B[38;5;124m\"\u001B[39m\n\u001B[0;32m    134\u001B[0m )\n",
      "\u001B[1;31mExecutionError\u001B[0m: Function has not been hydrated with the metadata it needs to run on Modal, because the App it is defined on is not running."
     ]
    }
   ],
   "execution_count": 41
  },
  {
   "metadata": {
    "ExecuteTime": {
     "end_time": "2025-03-26T14:00:28.223410Z",
     "start_time": "2025-03-26T14:00:27.314410Z"
    }
   },
   "cell_type": "code",
   "source": [
    "# Usage on a regular function.\n",
    "\n",
    "f = modal.Function.from_name(\"pricer-service\", \"price\")\n",
    "f.keep_warm(0)\n"
   ],
   "id": "866c0b44507a8c2a",
   "outputs": [],
   "execution_count": 5
  },
  {
   "metadata": {
    "ExecuteTime": {
     "end_time": "2025-03-26T10:14:48.792128Z",
     "start_time": "2025-03-26T10:10:56.734572Z"
    }
   },
   "cell_type": "code",
   "source": "f.remote(\"Quadcast HyperX condenser mic, connects via usb-c to your computer for crystal clear audio\")",
   "id": "a0e80e9c96beea3b",
   "outputs": [
    {
     "data": {
      "text/plain": [
       "133.0"
      ]
     },
     "execution_count": 39,
     "metadata": {},
     "output_type": "execute_result"
    }
   ],
   "execution_count": 39
  },
  {
   "metadata": {
    "ExecuteTime": {
     "end_time": "2025-03-26T13:24:46.092330Z",
     "start_time": "2025-03-26T13:24:44.034387Z"
    }
   },
   "cell_type": "code",
   "source": [
    "import pickle\n",
    "with open('train.pkl', 'rb') as file:\n",
    "    train = pickle.load(file)"
   ],
   "id": "917b2aa954be29d0",
   "outputs": [],
   "execution_count": 5
  },
  {
   "metadata": {
    "ExecuteTime": {
     "end_time": "2025-03-26T13:24:47.818141Z",
     "start_time": "2025-03-26T13:24:47.597074Z"
    }
   },
   "cell_type": "code",
   "source": [
    "with open(\"output.json\",\"r\") as f:\n",
    "    data = json.load(f)"
   ],
   "id": "ac74b53af478f695",
   "outputs": [],
   "execution_count": 6
  },
  {
   "metadata": {
    "ExecuteTime": {
     "end_time": "2025-03-26T13:24:52.710480Z",
     "start_time": "2025-03-26T13:24:52.701980Z"
    }
   },
   "cell_type": "code",
   "source": [
    "price = []\n",
    "for i in range(0,1000):\n",
    "    price.append(train[i].price)"
   ],
   "id": "e7afe057026cadbb",
   "outputs": [],
   "execution_count": 7
  },
  {
   "metadata": {
    "ExecuteTime": {
     "end_time": "2025-03-26T13:24:54.969060Z",
     "start_time": "2025-03-26T13:24:54.956747Z"
    }
   },
   "cell_type": "code",
   "source": "price[0]",
   "id": "e09a7d00f82ebb1b",
   "outputs": [
    {
     "data": {
      "text/plain": [
       "226.95"
      ]
     },
     "execution_count": 8,
     "metadata": {},
     "output_type": "execute_result"
    }
   ],
   "execution_count": 8
  },
  {
   "metadata": {
    "ExecuteTime": {
     "end_time": "2025-03-26T13:31:06.589998Z",
     "start_time": "2025-03-26T13:30:15.238647Z"
    }
   },
   "cell_type": "code",
   "source": [
    "from RandomForest import *\n",
    "model1 = RandomForest()\n",
    "model1.initialize()\n",
    "print(model1.predict(\"Quadcast HyperX condenser mic, connects via usb-c to your computer for crystal clear audio\"))"
   ],
   "id": "81350b25e27013c8",
   "outputs": [
    {
     "name": "stdout",
     "output_type": "stream",
     "text": [
      "263.42730000000023\n"
     ]
    }
   ],
   "execution_count": 3
  },
  {
   "metadata": {
    "ExecuteTime": {
     "end_time": "2025-03-26T13:31:15.837823Z",
     "start_time": "2025-03-26T13:31:15.828255Z"
    }
   },
   "cell_type": "code",
   "source": "from RAG import *",
   "id": "b436d45e6852023",
   "outputs": [],
   "execution_count": 4
  },
  {
   "metadata": {
    "ExecuteTime": {
     "end_time": "2025-03-26T13:31:20.031148Z",
     "start_time": "2025-03-26T13:31:17.596948Z"
    }
   },
   "cell_type": "code",
   "source": "model = RagOpenAI()",
   "id": "a5732c5cc8e121b0",
   "outputs": [],
   "execution_count": 5
  },
  {
   "metadata": {
    "ExecuteTime": {
     "end_time": "2025-03-26T13:31:21.505754Z",
     "start_time": "2025-03-26T13:31:20.640009Z"
    }
   },
   "cell_type": "code",
   "source": "model.initialize_openai()",
   "id": "d1d9de8e29fd5527",
   "outputs": [],
   "execution_count": 6
  },
  {
   "metadata": {
    "ExecuteTime": {
     "end_time": "2025-03-26T13:31:23.689256Z",
     "start_time": "2025-03-26T13:31:22.727686Z"
    }
   },
   "cell_type": "code",
   "source": "model.predict(\"Quadcast HyperX condenser mic, connects via usb-c to your computer for crystal clear audio\")",
   "id": "59f1bd02cf1f9e1e",
   "outputs": [
    {
     "data": {
      "text/plain": [
       "139.0"
      ]
     },
     "execution_count": 7,
     "metadata": {},
     "output_type": "execute_result"
    }
   ],
   "execution_count": 7
  },
  {
   "metadata": {
    "ExecuteTime": {
     "end_time": "2025-03-26T13:31:25.903421Z",
     "start_time": "2025-03-26T13:31:25.898295Z"
    }
   },
   "cell_type": "code",
   "source": [
    "def description(item):\n",
    "    return item.prompt.split(\"to the nearest dollar?\\n\\n\")[1].split(\"\\n\\nPrice is $\")[0]"
   ],
   "id": "3f138108795ca599",
   "outputs": [],
   "execution_count": 8
  },
  {
   "metadata": {
    "ExecuteTime": {
     "end_time": "2025-03-26T13:36:33.406669Z",
     "start_time": "2025-03-26T13:36:33.400303Z"
    }
   },
   "cell_type": "code",
   "source": [
    "with open(\"output_pricer.json\",\"r\") as f:\n",
    "    pricer = json.load(f)"
   ],
   "id": "aef01835e57105a2",
   "outputs": [],
   "execution_count": 15
  },
  {
   "metadata": {
    "ExecuteTime": {
     "end_time": "2025-03-26T13:34:26.163713Z",
     "start_time": "2025-03-26T13:31:30.931359Z"
    }
   },
   "cell_type": "code",
   "source": [
    "#pricer = []\n",
    "random = []\n",
    "rag = []\n",
    "prices = []\n",
    "for item in tqdm(test[1000:1250]):\n",
    "    text = description(item)\n",
    "    #pricer.append(f.remote(text))\n",
    "    rag.append(model.predict(text))\n",
    "    random.append(model1.predict(text))\n",
    "    prices.append(item.price)"
   ],
   "id": "7e34a82601156531",
   "outputs": [
    {
     "name": "stderr",
     "output_type": "stream",
     "text": [
      "100%|██████████| 250/250 [02:55<00:00,  1.43it/s]\n"
     ]
    }
   ],
   "execution_count": 10
  },
  {
   "metadata": {
    "ExecuteTime": {
     "end_time": "2025-03-26T13:36:37.461107Z",
     "start_time": "2025-03-26T13:36:37.453179Z"
    }
   },
   "cell_type": "code",
   "source": "pricer",
   "id": "c2b80112473d5808",
   "outputs": [
    {
     "data": {
      "text/plain": [
       "[31.0,\n",
       " 189.0,\n",
       " 348.0,\n",
       " 189.0,\n",
       " 336.0,\n",
       " 54.0,\n",
       " 60.0,\n",
       " 40.0,\n",
       " 296.0,\n",
       " 300.0,\n",
       " 81.0,\n",
       " 500.0,\n",
       " 285.0,\n",
       " 299.0,\n",
       " 81.0,\n",
       " 299.0,\n",
       " 40.0,\n",
       " 204.0,\n",
       " 81.0,\n",
       " 517.0,\n",
       " 500.0,\n",
       " 194.0,\n",
       " 81.0,\n",
       " 19.0,\n",
       " 147.0,\n",
       " 133.0,\n",
       " 848.0,\n",
       " 81.0,\n",
       " 133.0,\n",
       " 350.0,\n",
       " 279.0,\n",
       " 280.0,\n",
       " 54.0,\n",
       " 145.0,\n",
       " 201.0,\n",
       " 549.0,\n",
       " 133.0,\n",
       " 201.0,\n",
       " 252.0,\n",
       " 299.0,\n",
       " 59.0,\n",
       " 252.0,\n",
       " 350.0,\n",
       " 31.0,\n",
       " 280.0,\n",
       " 89.0,\n",
       " 330.0,\n",
       " 81.0,\n",
       " 220.0,\n",
       " 135.0,\n",
       " 81.0,\n",
       " 189.0,\n",
       " 202.0,\n",
       " 220.0,\n",
       " 81.0,\n",
       " 25.0,\n",
       " 351.0,\n",
       " 350.0,\n",
       " 110.0,\n",
       " 299.0,\n",
       " 19.0,\n",
       " 680.0,\n",
       " 201.0,\n",
       " 201.0,\n",
       " 201.0,\n",
       " 133.0,\n",
       " 31.0,\n",
       " 220.0,\n",
       " 201.0,\n",
       " 31.0,\n",
       " 147.0,\n",
       " 19.0,\n",
       " 500.0,\n",
       " 280.0,\n",
       " 299.0,\n",
       " 189.0,\n",
       " 500.0,\n",
       " 220.0,\n",
       " 375.0,\n",
       " 201.0,\n",
       " 81.0,\n",
       " 182.0,\n",
       " 530.0,\n",
       " 202.0,\n",
       " 350.0,\n",
       " 214.0,\n",
       " 25.0,\n",
       " 280.0,\n",
       " 220.0,\n",
       " 93.0,\n",
       " 206.0,\n",
       " 201.0,\n",
       " 189.0,\n",
       " 198.0,\n",
       " 189.0,\n",
       " 246.0,\n",
       " 59.0,\n",
       " 7.0,\n",
       " 60.0,\n",
       " 679.0,\n",
       " 133.0,\n",
       " 400.0,\n",
       " 655.0,\n",
       " 134.0,\n",
       " 142.0,\n",
       " 81.0,\n",
       " 6.0,\n",
       " 836.0,\n",
       " 350.0,\n",
       " 15.0,\n",
       " 189.0,\n",
       " 110.0,\n",
       " 60.0,\n",
       " 81.0,\n",
       " 201.0,\n",
       " 220.0,\n",
       " 170.0,\n",
       " 133.0,\n",
       " 122.0,\n",
       " 418.0,\n",
       " 350.0,\n",
       " 299.0,\n",
       " 252.0,\n",
       " 299.0,\n",
       " 60.0,\n",
       " 182.0,\n",
       " 500.0,\n",
       " 54.0,\n",
       " 133.0,\n",
       " 15.0,\n",
       " 350.0,\n",
       " 350.0,\n",
       " 81.0,\n",
       " 130.0,\n",
       " 81.0,\n",
       " 495.0,\n",
       " 249.0,\n",
       " 134.0,\n",
       " 89.0,\n",
       " 412.0,\n",
       " 299.0,\n",
       " 799.0,\n",
       " 19.0,\n",
       " 81.0,\n",
       " 81.0,\n",
       " 93.0,\n",
       " 54.0,\n",
       " 81.0,\n",
       " 40.0,\n",
       " 350.0,\n",
       " 350.0,\n",
       " 650.0,\n",
       " 81.0,\n",
       " 133.0,\n",
       " 134.0,\n",
       " 174.0,\n",
       " 110.0,\n",
       " 700.0,\n",
       " 201.0,\n",
       " 81.0,\n",
       " 86.0,\n",
       " 81.0,\n",
       " 40.0,\n",
       " 680.0,\n",
       " 350.0,\n",
       " 189.0,\n",
       " 25.0,\n",
       " 189.0,\n",
       " 216.0,\n",
       " 189.0,\n",
       " 445.0,\n",
       " 54.0,\n",
       " 189.0,\n",
       " 54.0,\n",
       " 249.0,\n",
       " 299.0,\n",
       " 507.0,\n",
       " 182.0,\n",
       " 54.0,\n",
       " 54.0,\n",
       " 350.0,\n",
       " 280.0,\n",
       " 270.0,\n",
       " 110.0,\n",
       " 280.0,\n",
       " 81.0,\n",
       " 142.0,\n",
       " 193.0,\n",
       " 130.0,\n",
       " 147.0,\n",
       " 350.0,\n",
       " 201.0,\n",
       " 146.0,\n",
       " 81.0,\n",
       " 201.0,\n",
       " 110.0,\n",
       " 299.0,\n",
       " 40.0,\n",
       " 299.0,\n",
       " 350.0,\n",
       " 349.0,\n",
       " 421.0,\n",
       " 189.0,\n",
       " 182.0,\n",
       " 280.0,\n",
       " 25.0,\n",
       " 81.0,\n",
       " 412.0,\n",
       " 201.0,\n",
       " 142.0,\n",
       " 84.0,\n",
       " 805.0,\n",
       " 122.0,\n",
       " 229.0,\n",
       " 54.0,\n",
       " 110.0,\n",
       " 93.0,\n",
       " 355.0,\n",
       " 19.0,\n",
       " 122.0,\n",
       " 133.0,\n",
       " 81.0,\n",
       " 350.0,\n",
       " 299.0,\n",
       " 142.0,\n",
       " 189.0,\n",
       " 409.0,\n",
       " 112.0,\n",
       " 15.0,\n",
       " 69.0,\n",
       " 672.0,\n",
       " 81.0,\n",
       " 81.0,\n",
       " 201.0,\n",
       " 156.0,\n",
       " 220.0,\n",
       " 139.0,\n",
       " 19.0,\n",
       " 25.0,\n",
       " 500.0,\n",
       " 182.0,\n",
       " 252.0,\n",
       " 182.0,\n",
       " 31.0,\n",
       " 81.0,\n",
       " 51.0,\n",
       " 220.0,\n",
       " 300.0,\n",
       " 180.0,\n",
       " 133.0]"
      ]
     },
     "execution_count": 17,
     "metadata": {},
     "output_type": "execute_result"
    }
   ],
   "execution_count": 17
  },
  {
   "metadata": {
    "ExecuteTime": {
     "end_time": "2025-03-26T13:36:39.558184Z",
     "start_time": "2025-03-26T13:36:39.549117Z"
    }
   },
   "cell_type": "code",
   "source": [
    "mins = [min(s,f,r) for s,f,r in zip(rag, random, pricer)]\n",
    "maxes = [max(s,f,r) for s,f,r in zip(rag, random, pricer)]\n",
    "\n",
    "X = pd.DataFrame({\n",
    "    'Specialist': rag,\n",
    "    'Frontier': pricer,\n",
    "    'RandomForest': random,\n",
    "    'Min': mins,\n",
    "    'Max': maxes,\n",
    "})\n",
    "\n",
    "# Convert y to a Series\n",
    "y = pd.Series(prices)"
   ],
   "id": "d58ed32cbdefb2a0",
   "outputs": [],
   "execution_count": 18
  },
  {
   "metadata": {
    "ExecuteTime": {
     "end_time": "2025-03-26T13:37:16.314661Z",
     "start_time": "2025-03-26T13:37:16.062300Z"
    }
   },
   "cell_type": "code",
   "source": [
    "# Train a Linear Regression\n",
    "from sklearn.linear_model import LinearRegression\n",
    "np.random.seed(42)\n",
    "\n",
    "lr = LinearRegression()\n",
    "lr.fit(X, y)\n",
    "\n",
    "feature_columns = X.columns.tolist()\n",
    "\n",
    "for feature, coef in zip(feature_columns, lr.coef_):\n",
    "    print(f\"{feature}: {coef:.2f}\")\n",
    "print(f\"Intercept={lr.intercept_:.2f}\")"
   ],
   "id": "119ce612325a9b5a",
   "outputs": [
    {
     "name": "stdout",
     "output_type": "stream",
     "text": [
      "Specialist: 0.08\n",
      "Frontier: 0.77\n",
      "RandomForest: 0.00\n",
      "Min: 0.22\n",
      "Max: 0.11\n",
      "Intercept=-17.34\n"
     ]
    }
   ],
   "execution_count": 20
  },
  {
   "metadata": {
    "ExecuteTime": {
     "end_time": "2025-03-26T13:37:24.221906Z",
     "start_time": "2025-03-26T13:37:24.210397Z"
    }
   },
   "cell_type": "code",
   "source": "joblib.dump(lr, 'ensemble_model.pkl')",
   "id": "c7cc9ea09006fc25",
   "outputs": [
    {
     "data": {
      "text/plain": [
       "['ensemble_model.pkl']"
      ]
     },
     "execution_count": 21,
     "metadata": {},
     "output_type": "execute_result"
    }
   ],
   "execution_count": 21
  },
  {
   "metadata": {
    "ExecuteTime": {
     "end_time": "2025-03-26T13:55:52.694548Z",
     "start_time": "2025-03-26T13:55:45.612006Z"
    }
   },
   "cell_type": "code",
   "source": "model_test = EnsembleAgent()\n",
   "id": "9e95cbb3550dcced",
   "outputs": [],
   "execution_count": 2
  },
  {
   "metadata": {
    "ExecuteTime": {
     "end_time": "2025-03-26T13:59:41.005352Z",
     "start_time": "2025-03-26T13:55:54.600144Z"
    }
   },
   "cell_type": "code",
   "source": "model_test.initialize()",
   "id": "65a578f8cc280920",
   "outputs": [],
   "execution_count": 3
  },
  {
   "metadata": {
    "ExecuteTime": {
     "end_time": "2025-03-26T14:00:06.786763Z",
     "start_time": "2025-03-26T13:59:41.062155Z"
    }
   },
   "cell_type": "code",
   "source": "model_test.price(\"Quadcast HyperX condenser mic, connects via usb-c to your computer for crystal clear audio\")",
   "id": "aafc964b2dd45cd1",
   "outputs": [
    {
     "data": {
      "text/plain": [
       "150.32682626900743"
      ]
     },
     "execution_count": 4,
     "metadata": {},
     "output_type": "execute_result"
    }
   ],
   "execution_count": 4
  }
 ],
 "metadata": {
  "kernelspec": {
   "display_name": "Python 3",
   "language": "python",
   "name": "python3"
  },
  "language_info": {
   "codemirror_mode": {
    "name": "ipython",
    "version": 2
   },
   "file_extension": ".py",
   "mimetype": "text/x-python",
   "name": "python",
   "nbconvert_exporter": "python",
   "pygments_lexer": "ipython2",
   "version": "2.7.6"
  }
 },
 "nbformat": 4,
 "nbformat_minor": 5
}
